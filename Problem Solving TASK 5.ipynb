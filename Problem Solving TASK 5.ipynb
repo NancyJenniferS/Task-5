{
 "cells": [
  {
   "cell_type": "code",
   "execution_count": null,
   "id": "a25b97c5",
   "metadata": {},
   "outputs": [],
   "source": [
    "#Question 1\n",
    "\n",
    "string = input()\n",
    "count=0\n",
    "string=string.lower()\n",
    "#print(string.count())\n",
    "for i in string:\n",
    "    if i=='a'or i=='e'or i=='i' or i=='o' or i=='u':\n",
    "        count=count+1\n",
    "        if count == 0:\n",
    "            print(\"no vowels found\")\n",
    "        else:\n",
    "            print(i)\n",
    "            \n",
    "print(\"vowels count:\",count)"
   ]
  },
  {
   "cell_type": "code",
   "execution_count": null,
   "id": "9115e411",
   "metadata": {},
   "outputs": [],
   "source": [
    "#Question 2\n",
    "\n",
    "n = 10\n",
    "for i in range(n):\n",
    "    for j in range(n - i - 1):\n",
    "        print(' ', end='')\n",
    "    for k in range(2 * i + 1):\n",
    "        print(k + 1, end='')\n",
    "    print()"
   ]
  },
  {
   "cell_type": "code",
   "execution_count": null,
   "id": "274de1e1",
   "metadata": {},
   "outputs": [],
   "source": [
    "# Question 3\n",
    "\n",
    "def remove_vow(Input):\n",
    "    vowels=['a','e','i','o','u']\n",
    "    output=''\n",
    "    for char in Input:\n",
    "        if char not in vowels:\n",
    "            output +=char;\n",
    "    return(output)\n",
    "Input_String='Hi How Are You'\n",
    "Output_String=remove_vow(Input_String)\n",
    "print(Output_String)"
   ]
  },
  {
   "cell_type": "code",
   "execution_count": 1,
   "id": "03b5ea46",
   "metadata": {},
   "outputs": [
    {
     "name": "stdout",
     "output_type": "stream",
     "text": [
      "10\n"
     ]
    }
   ],
   "source": [
    "# Question 4\n",
    " \n",
    "def countDis(str):\n",
    " \n",
    "    s = set(str)\n",
    " \n",
    "    # Return the size of the set\n",
    "    return len(s)\n",
    "\n",
    "if __name__ == \"__main__\":\n",
    " \n",
    "    S = \"Hello Everyone\"\n",
    "    print(countDis(S))"
   ]
  },
  {
   "cell_type": "code",
   "execution_count": 5,
   "id": "d48097dc",
   "metadata": {},
   "outputs": [
    {
     "name": "stdout",
     "output_type": "stream",
     "text": [
      "Enter a letter:madam\n",
      "The letter is a palindrome\n"
     ]
    }
   ],
   "source": [
    "#Question 5\n",
    "\n",
    "string=input((\"Enter a letter:\"))  \n",
    "if(string==string[::-1]):  \n",
    "      print(\"The letter is a palindrome\")  \n",
    "else:  \n",
    "      print(\"The letter is not a palindrome\")  "
   ]
  },
  {
   "cell_type": "code",
   "execution_count": null,
   "id": "298d5ab3",
   "metadata": {},
   "outputs": [],
   "source": [
    "#Question 6 \n",
    "#longest common substring"
   ]
  },
  {
   "cell_type": "code",
   "execution_count": 10,
   "id": "0e32a4f4",
   "metadata": {},
   "outputs": [
    {
     "name": "stdout",
     "output_type": "stream",
     "text": [
      "b\n"
     ]
    }
   ],
   "source": [
    "#Question 7\n",
    "\n",
    "string = 'aaabbbbbbc'\n",
    "most_common = max(set(string), key=string.count)\n",
    "print(most_common)"
   ]
  },
  {
   "cell_type": "code",
   "execution_count": 12,
   "id": "fa29b0d6",
   "metadata": {},
   "outputs": [
    {
     "name": "stdout",
     "output_type": "stream",
     "text": [
      "The strings aren't anagrams.\n"
     ]
    }
   ],
   "source": [
    "#Question 8\n",
    "\n",
    "def check(s1, s2):\n",
    "     \n",
    "    # the sorted strings are checked \n",
    "    if(sorted(s1)== sorted(s2)):\n",
    "        print(\"The strings are anagrams.\") \n",
    "    else:\n",
    "        print(\"The strings aren't anagrams.\")         \n",
    "           \n",
    "s1 =\"listen\"\n",
    "s2 =\"silents\"\n",
    "check(s1, s2)"
   ]
  },
  {
   "cell_type": "code",
   "execution_count": 15,
   "id": "ff3d2c6b",
   "metadata": {},
   "outputs": [
    {
     "name": "stdout",
     "output_type": "stream",
     "text": [
      "Count: 5\n"
     ]
    }
   ],
   "source": [
    "# Question 9\n",
    "\n",
    "str = len(\"Hello my name is Nancy\".split())\n",
    "print(\"Count:\", str)\n",
    "S"
   ]
  },
  {
   "cell_type": "code",
   "execution_count": null,
   "id": "e6af85a3",
   "metadata": {},
   "outputs": [],
   "source": []
  }
 ],
 "metadata": {
  "kernelspec": {
   "display_name": "Python 3 (ipykernel)",
   "language": "python",
   "name": "python3"
  },
  "language_info": {
   "codemirror_mode": {
    "name": "ipython",
    "version": 3
   },
   "file_extension": ".py",
   "mimetype": "text/x-python",
   "name": "python",
   "nbconvert_exporter": "python",
   "pygments_lexer": "ipython3",
   "version": "3.11.4"
  }
 },
 "nbformat": 4,
 "nbformat_minor": 5
}
